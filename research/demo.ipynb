{
 "cells": [
  {
   "cell_type": "code",
   "execution_count": 1,
   "metadata": {},
   "outputs": [],
   "source": [
    "import torch\n",
    "import os\n",
    "import numpy as np\n",
    "import torch.nn as nn\n",
    "import torch.nn.functional as F\n",
    "from torch.optim.lr_scheduler import StepLR\n",
    "from torchvision import datasets, transforms\n",
    "import mlflow\n",
    "import mlflow.pytorch "
   ]
  },
  {
   "cell_type": "code",
   "execution_count": 2,
   "metadata": {},
   "outputs": [
    {
     "name": "stderr",
     "output_type": "stream",
     "text": [
      "/home/dev_ashish/anaconda3/lib/python3.9/site-packages/torch/cuda/__init__.py:82: UserWarning: CUDA initialization: CUDA unknown error - this may be due to an incorrectly set up environment, e.g. changing env variable CUDA_VISIBLE_DEVICES after program start. Setting the available devices to be zero. (Triggered internally at  ../c10/cuda/CUDAFunctions.cpp:112.)\n",
      "  return torch._C._cuda_getDeviceCount() > 0\n"
     ]
    }
   ],
   "source": [
    "class Config:\n",
    "    EPOCHS = 10\n",
    "    BATCH_SIZE = 32\n",
    "    LR = 0.01\n",
    "    DEVICE = 'cuda' if torch.cuda.is_available() else 'cpu'\n",
    "    GAMMA = 0.7\n",
    "    SEED = 42\n",
    "    LOG_INTERVAL = 10\n",
    "    TEST_BATCH_SIZE = 1000\n",
    "    DRY_RUN = True"
   ]
  },
  {
   "cell_type": "code",
   "execution_count": 3,
   "metadata": {},
   "outputs": [],
   "source": [
    "config = Config()"
   ]
  },
  {
   "cell_type": "code",
   "execution_count": 4,
   "metadata": {},
   "outputs": [],
   "source": [
    "class ConvNet(nn.Module):\n",
    "    def __init__(self):\n",
    "        super(ConvNet, self).__init__()\n",
    "        self.conv1 = nn.Conv2d(1, 32, 3, 1)\n",
    "        self.conv2 = nn.Conv2d(32, 64, 3, 1)\n",
    "        self.dropout1 = nn.Dropout(0.25)\n",
    "        self.dropout2 = nn.Dropout(0.5)\n",
    "        self.fc1 = nn.Linear(9216, 128)\n",
    "        self.fc2 = nn.Linear(128, 10)\n",
    "    \n",
    "    def forward(self, x):\n",
    "        x = self.conv1(x)\n",
    "        x = F.relu(x)\n",
    "        x = self.conv2(x)\n",
    "        x = F.relu(x)\n",
    "        x = F.max_pool2d(x, 2)\n",
    "        x = self.dropout1(x)\n",
    "        x = torch.flatten(x, 1)\n",
    "        x = self.fc1(x)\n",
    "        x = F.relu(x)\n",
    "        x = self.dropout2(x)\n",
    "        x = torch.flatten(x, 1)\n",
    "        x = self.fc2(x)\n",
    "        \n",
    "        output = F.log_softmax(x, dim = 1)\n",
    "        return output\n",
    "        "
   ]
  },
  {
   "cell_type": "code",
   "execution_count": 5,
   "metadata": {},
   "outputs": [],
   "source": [
    "def train_(config, model, device, train_loader, optimizer, epoch):\n",
    "    model.train()\n",
    "    for batch_idx, (data, target) in enumerate(train_loader):\n",
    "        data, target = data.to(device), target.to(device)\n",
    "        optimizer.zero_grad()\n",
    "        pred = model(data)\n",
    "        loss = F.cross_entropy(pred, target)\n",
    "        loss.backward()\n",
    "        optimizer.step()\n",
    "        if batch_idx % config.LOG_INTERVAL == 0:\n",
    "            print(f\"train epoch: {epoch} [{batch_idx * len(data)}/{len(train_loader.dataset)} ({100.0 * batch_idx / len(train_loader) :.0f})]\\t Loss: {loss.item():.6f}\")\n",
    "            \n",
    "            if config.DRY_RUN:\n",
    "                break"
   ]
  },
  {
   "cell_type": "code",
   "execution_count": 6,
   "metadata": {},
   "outputs": [],
   "source": [
    "def test(model, device, test_loader):\n",
    "    pass"
   ]
  },
  {
   "cell_type": "code",
   "execution_count": 7,
   "metadata": {},
   "outputs": [
    {
     "data": {
      "text/plain": [
       "<torch._C.Generator at 0x7f6c60117410>"
      ]
     },
     "execution_count": 7,
     "metadata": {},
     "output_type": "execute_result"
    }
   ],
   "source": [
    "torch.manual_seed(config.SEED)"
   ]
  },
  {
   "cell_type": "code",
   "execution_count": 8,
   "metadata": {},
   "outputs": [],
   "source": [
    "train_kwargs = {\"batch_size\" : config.BATCH_SIZE}\n",
    "test_kwargs = {\"batch_size\" : config.TEST_BATCH_SIZE}"
   ]
  },
  {
   "cell_type": "code",
   "execution_count": 9,
   "metadata": {},
   "outputs": [],
   "source": [
    "if config.DEVICE == \"cuda\":\n",
    "    cuda_kwargs = {\"num_workers\" : 1, \"pin_memory\" : True, \"shuffle\" : True}\n",
    "    train_kwargs.update(cuda_kwargs)\n",
    "    test_kwargs.update(cuda_kwargs)"
   ]
  },
  {
   "cell_type": "code",
   "execution_count": 10,
   "metadata": {},
   "outputs": [],
   "source": [
    "transforms = transforms.Compose(\n",
    "            [transforms.ToTensor()]\n",
    ")"
   ]
  },
  {
   "cell_type": "code",
   "execution_count": 11,
   "metadata": {},
   "outputs": [],
   "source": [
    "train = datasets.MNIST(\"../data\", train = True, download = True, transform = transforms)\n",
    "test = datasets.MNIST(\"../data\", train = False, transform = transforms)\n",
    "\n",
    "train_loader = torch.utils.data.DataLoader(train, **train_kwargs)\n",
    "test_loader = torch.utils.data.DataLoader(test, **test_kwargs)"
   ]
  },
  {
   "cell_type": "code",
   "execution_count": 12,
   "metadata": {},
   "outputs": [],
   "source": [
    "model = ConvNet().to(config.DEVICE)\n",
    "optimizer = torch.optim.Adam(model.parameters(), lr = config.LR)\n",
    "\n",
    "scheduler = StepLR(optimizer, step_size = 1, gamma = config.GAMMA)"
   ]
  },
  {
   "cell_type": "code",
   "execution_count": 13,
   "metadata": {},
   "outputs": [
    {
     "name": "stdout",
     "output_type": "stream",
     "text": [
      "train epoch: 1 [0/60000 (0)]\t Loss: 2.314534\n",
      "train epoch: 2 [0/60000 (0)]\t Loss: 4.022062\n",
      "train epoch: 3 [0/60000 (0)]\t Loss: 2.838799\n",
      "train epoch: 4 [0/60000 (0)]\t Loss: 2.538894\n",
      "train epoch: 5 [0/60000 (0)]\t Loss: 2.299661\n",
      "train epoch: 6 [0/60000 (0)]\t Loss: 2.259789\n",
      "train epoch: 7 [0/60000 (0)]\t Loss: 2.303664\n",
      "train epoch: 8 [0/60000 (0)]\t Loss: 2.242047\n",
      "train epoch: 9 [0/60000 (0)]\t Loss: 2.243678\n",
      "train epoch: 10 [0/60000 (0)]\t Loss: 2.244786\n"
     ]
    }
   ],
   "source": [
    "# training Loop\n",
    "\n",
    "for epoch in range(1, config.EPOCHS + 1):\n",
    "    train_(config, model, config.DEVICE, train_loader, optimizer, epoch)\n",
    "    scheduler.step()\n",
    "    "
   ]
  },
  {
   "cell_type": "code",
   "execution_count": 16,
   "metadata": {},
   "outputs": [
    {
     "name": "stderr",
     "output_type": "stream",
     "text": [
      "2022/08/09 22:22:15 WARNING mlflow.utils.requirements_utils: Found torch version (1.11.0+cu102) contains a local version label (+cu102). MLflow logged a pip requirement for this package as 'torch==1.11.0' without the local version label to make it installable from PyPI. To specify pip requirements containing local version labels, please use `conda_env` or `pip_requirements`.\n",
      "2022/08/09 22:22:18 WARNING mlflow.utils.requirements_utils: Found torch version (1.11.0+cu102) contains a local version label (+cu102). MLflow logged a pip requirement for this package as 'torch==1.11.0' without the local version label to make it installable from PyPI. To specify pip requirements containing local version labels, please use `conda_env` or `pip_requirements`.\n"
     ]
    },
    {
     "name": "stdout",
     "output_type": "stream",
     "text": [
      "actual: 7, predicted: 5\n"
     ]
    }
   ],
   "source": [
    "with mlflow.start_run() as run:\n",
    "    mlflow.pytorch.log_model(model, \"model\")\n",
    "    model_path = mlflow.get_artifact_uri(\"model\")\n",
    "    loaded_torch_model = mlflow.pytorch.load_model(model_path)\n",
    "    model.eval()\n",
    "    with torch.no_grad():\n",
    "        test_datapoints, test_target = next(iter(test_loader))\n",
    "        pred = model(test_datapoints[0].reshape(1,1,28,28).to(config.DEVICE))\n",
    "        actual = test_target[0].item()\n",
    "        predicted = torch.argmax(pred).item()\n",
    "        print(f\"actual: {actual}, predicted: {predicted}\")"
   ]
  },
  {
   "cell_type": "code",
   "execution_count": null,
   "metadata": {},
   "outputs": [],
   "source": []
  }
 ],
 "metadata": {
  "kernelspec": {
   "display_name": "Python 3 (ipykernel)",
   "language": "python",
   "name": "python3"
  },
  "language_info": {
   "codemirror_mode": {
    "name": "ipython",
    "version": 3
   },
   "file_extension": ".py",
   "mimetype": "text/x-python",
   "name": "python",
   "nbconvert_exporter": "python",
   "pygments_lexer": "ipython3",
   "version": "3.8.13"
  },
  "vscode": {
   "interpreter": {
    "hash": "df0893f56f349688326838aaeea0de204df53a132722cbd565e54b24a8fec5f6"
   }
  }
 },
 "nbformat": 4,
 "nbformat_minor": 2
}
